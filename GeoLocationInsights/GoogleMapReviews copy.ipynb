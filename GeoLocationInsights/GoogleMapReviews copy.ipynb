{
 "cells": [
  {
   "cell_type": "code",
   "execution_count": null,
   "id": "b1da6dc0-6865-4684-8f24-fbc6bf3c560a",
   "metadata": {},
   "outputs": [],
   "source": []
  },
  {
   "cell_type": "code",
   "execution_count": null,
   "id": "edc2939e-ea1d-49e5-88f0-2205436cf86d",
   "metadata": {},
   "outputs": [],
   "source": []
  },
  {
   "cell_type": "code",
   "execution_count": null,
   "id": "cdee2a04-e791-4ad6-9c45-89b2cc19ca3f",
   "metadata": {},
   "outputs": [],
   "source": []
  },
  {
   "cell_type": "code",
   "execution_count": null,
   "id": "c3bacc1c-669d-4205-bb8b-fd9e20a48a06",
   "metadata": {},
   "outputs": [],
   "source": [
    "#get place ID\n",
    "#https://developers.google.com/maps/documentation/places/web-service/place-id"
   ]
  },
  {
   "cell_type": "code",
   "execution_count": null,
   "id": "c241a977-5927-446b-b4ad-5921e6f9bcd2",
   "metadata": {},
   "outputs": [],
   "source": [
    "Fat Harry's - ChIJS1v_P02kIIYROgnkvo1R3KI\n",
    "Twelve Mile Limit - ChIJjTeq0o6lIIYRpzd50zourpQ\n",
    "Le Bons Temps Roule - ChIJj2w_FVGkIIYR_mg2snI6Bo4\n",
    "Carrollton Station - ChIJ9ykCPRWlIIYR28hIawvpUDg\n",
    "Three Palms Bar and Grill - ChIJCRP7V4-lIIYRjn-qKCRPbOI\n",
    "TJ Quills - ChIJPeMgpBelIIYR74J1EemHJLM\n",
    "The Silver Fox - ChIJzaMauQ-mIIYRcF7e6wRMD7A\n",
    "The Rabbit Hole - ChIJ-_Lw1m2lIIYR63N48-bTi6E\n",
    "Port Orleans Brewing Co. - ChIJUe-UTU-kIIYRlRXMWpDrE5Q\n",
    "Tacos & Beer - ChIJbRpkvtelIIYRpiXU5OlhxQ0\n",
    "Good Friends Bar - ChIJZ2Xe0w-mIIYR4Rbo9n0qNGE\n",
    "Fred’s Bar & Grill - ChIJwSboMhunJoYRmex6Dt31cX8\n",
    "Parlay’s - ChIJxTO0bg6vIIYR1PZ_w420twc\n",
    "Bayou Beer Garden - ChIJE6MDEfWlIIYRhSbNBJG9JEY"
   ]
  },
  {
   "cell_type": "code",
   "execution_count": 1,
   "id": "5dfd3d15-7db3-467c-aca1-402c6c34f9d3",
   "metadata": {
    "tags": []
   },
   "outputs": [],
   "source": [
    "from outscraper import ApiClient\n",
    "\n",
    "client = ApiClient() #GET FROM CONFIG.JSONfrom outscraper import ApiClient\n",
    "\n",
    "```"
   ]
  },
  {
   "cell_type": "code",
   "execution_count": null,
   "id": "25728360-4c8f-47b0-ac2d-f3cafc753e03",
   "metadata": {},
   "outputs": [],
   "source": [
    "{'14 Parishes Jamaican Restaurant',ChIJ3YIqRDilIIYRNdBADgnHf3s\n",
    " 'Anatolia Mediterranean Cuisine', ChIJByl8WzKkIIYR4Md_Gl6o7V4\n",
    " 'Attiki Bar & Grill',ChIJk75Heg2mIIYR-vI3U6jwD-g\n",
    " 'Balcony Bar & Cafe',ChIJN0NnsjOkIIYR7SfX4d0DqTw\n",
    " 'Bar Tonique',ChIJP-uakA-mIIYRckuwuOo0dQ4\n",
    " 'Bayou Beer Garden',ChIJE6MDEfWlIIYRhSbNBJG9JEY\n",
    " 'Big Little Kitchen',ChIJj6XbBXamIIYR-GHnVMv0YUw\n",
    " 'Bijou Restaurant & Bar',ChIJ-WrZBBSnIIYRO7IxMrsZSGE\n",
    " 'Bogie’s',ChIJm1B7URynJoYRy9iRt0f00IM\n",
    " 'Cafe Abyssinia',ChIJCWDG0jWkIIYRQEyhulm-Ipw\n",
    " 'Cafe Negril',ChIJF8hxNximIIYRoZjfss7QIqw\n",
    " 'Carmo',ChIJgU4W-XOmIIYRHUi4goKc8X4\n",
    " 'Carrollton Station',ChIJ9ykCPRWlIIYR28hIawvpUDg\n",
    " 'Coyote Ugly',ChIJvbx2Yg2mIIYRWTaHITjoBDA\n",
    " 'Cuñada',ChIJzasGnQ6mIIYRKaEWRTou0Xs\n",
    " 'Dat Dog (Frenchmen St)',ChIJcZEGOhimIIYR6vv03wETdUY\n",
    " 'Dat Dog (Freret St)',ChIJI8cxE6mlIIYRCCtmHBFOywQ\n",
    " 'Dat Dog (Magazine St)',ChIJYQrX9jOkIIYRWTlIub6Sepg\n",
    " 'Down the Hatch (Garden District)',ChIJAcNFitWlIIYRzlZVLQ8kr3g\n",
    " 'El Paso Mexican Grill',ChIJLZDxfRalIIYRzIlhsTh8PVY\n",
    " \"Fat Harry's\",ChIJS1v_P02kIIYROgnkvo1R3KI\n",
    " 'Favela Chic',ChIJyQn5OhimIIYRBONE5rGMAEI\n",
    " 'Fred’s Bar & Grill',ChIJwSboMhunJoYRmex6Dt31cX8\n",
    " 'Good Friends Bar',ChIJZ2Xe0w-mIIYR4Rbo9n0qNGE\n",
    " 'Haifa Cuisine & Hookah Bar ',ChIJjfcPpX6vIIYRzGIftgTJVY8\n",
    " 'Happy Raptor Distilling',ChIJj-SspBylIIYR_jHRDjHXT8I\n",
    " 'High Grace NOLA',ChIJ0SbJZz2nIIYR2Kprqi9LQkk\n",
    " 'Ingenue',ChIJh7XugwqmIIYRGleZ75By7Rk\n",
    " 'Jinx Bar and Grill',ChIJXxgXzq6nIIYRhld-0WPto4c\n",
    " 'Junction Bar & Grill',ChIJk0MFNS-mIIYR1HMEq5vVVw8\n",
    " 'Kingfish Cider',ChIJncpYy4ClIIYRHPLdGNZqBjY\n",
    " 'La Carreta',ChIJe107bX-mIIYRGIteZ48tENg\n",
    " 'Le Bons Temps Roule',ChIJj2w_FVGkIIYR_mg2snI6Bo4\n",
    " 'Madame Vic’s',ChIJHQtBf1unIIYRvphvjXbRr3Y\n",
    " 'Mayas | Nuevo Latino Cocina',ChIJ_VulgtWlIIYRlhaHGXiG6w0\n",
    " 'Misa ',ChIJB2DmoHOlIIYRdZ34MH0Sxh4\n",
    " 'NOLA Distillery',ChIJR3blxDekIIYRPoGEBnZEtV8\n",
    " 'New York Pizza',ChIJ9zaMF06kIIYRXovQQSTE7X8\n",
    " 'Parlay’s',ChIJxTO0bg6vIIYR1PZ_w420twc\n",
    " 'Poor Boys Bar',ChIJ1zcDwBymIIYRE3c64058fkg\n",
    " 'Port Orleans Brewing Co.',ChIJUe-UTU-kIIYRlRXMWpDrE5Q\n",
    " 'Pour House @ Bourbon',ChIJyfVkh4SnIIYRVIDA0tRlOZw\n",
    " 'Pour House @ District',ChIJxcOxleynIIYRFE1iPcZrvgM\n",
    " 'Rampart Treehouse',ChIJaxjesumnIIYR3T4zWdxMf9o\n",
    " 'Red Door',ChIJKcckFWKvIIYR0oAlysqsIJs\n",
    " 'Royal Sushi & Bar',ChIJExCguxmmIIYR7r_EsdB-wnc\n",
    " 'SHOTS Bar New Orleans',ChIJF9_ksPOnIIYR_wuWGCpdpEE\n",
    " 'Saturn Bar', ChIJ9fYh1i6mIIYR_-Ci3QOp-n0\n",
    " 'Snake & Jake’s Christmas Lounge ',ChIJE2MvTBGlIIYRdbXdpRqY9u0\n",
    " 'St. Pat’s Irish Coffeehouse',ChIJTwJduw6mIIYRuiRGru82Drg\n",
    " 'TJ Quills',ChIJPeMgpBelIIYR74J1EemHJLM\n",
    " 'Tacos & Beer',ChIJbRpkvtelIIYRpiXU5OlhxQ0\n",
    " 'Tal’s Hummus',ChIJsUcJFFGkIIYRqtr-omdyXSk\n",
    " 'Tava Indian Street Food',ChIJ3-yLfSqnIIYRWlOEO6sulVc\n",
    " 'The American Sports Saloon',ChIJtXneExemIIYRB4m5_Od0oP0\n",
    " 'The Bourbon Square Jazz Bar',ChIJS5XXU-GnIIYRNGX_mxZVnkk\n",
    " 'The Gilded Perch',ChIJX1EJOmGlIIYRg4fTQdGOvDo\n",
    " 'The Oak on Saint Charles',ChIJ0y6LGzClIIYRPTl2t3nCDUM\n",
    " 'The Rabbit Hole',ChIJ-_Lw1m2lIIYR63N48-bTi6E\n",
    " 'The Silver Fox', ChIJzaMauQ-mIIYRcF7e6wRMD7A\n",
    " 'The Tasting Room',ChIJLVTHcX-mIIYR3yL4EXJlkKg\n",
    " 'Three Palms Bar and Grill',ChIJCRP7V4-lIIYRjn-qKCRPbOI\n",
    " \"Tito's Ceviche & Pisco (Magazine St)\",ChIJi-hKi1akIIYRTCiqEQUQwp8\n",
    " \"Tito's Ceviche & Pisco (St Charles Ave)\",ChIJyTLbBvqlIIYRSpiByGsj-bQ\n",
    " 'Twelve Mile Limit',ChIJjTeq0o6lIIYRpzd50zourpQ\n",
    " 'Voodoo Tavern and PoBoys',ChIJ2y0nIR2nIIYROlY24UKX1KA\n",
    " 'Windowsill Pies',ChIJU_bKcIalIIYRYpzSzsZV0rQ\n",
    " \"Wit's Inn\",ChIJn6HhXWKvIIYRH9mOmZLOM4I}"
   ]
  },
  {
   "cell_type": "code",
   "execution_count": 1,
   "id": "db1196ab-f898-41d8-8762-6cab84b29dfa",
   "metadata": {
    "tags": []
   },
   "outputs": [],
   "source": [
    "# Get data of the specific place by id\n",
    "places = ['ChIJ3YIqRDilIIYRNdBADgnHf3s',\n",
    " 'ChIJByl8WzKkIIYR4Md_Gl6o7V4',\n",
    " 'ChIJk75Heg2mIIYR-vI3U6jwD-g',\n",
    " 'ChIJN0NnsjOkIIYR7SfX4d0DqTw',\n",
    " 'ChIJP-uakA-mIIYRckuwuOo0dQ4',\n",
    " 'ChIJE6MDEfWlIIYRhSbNBJG9JEY',\n",
    " 'ChIJj6XbBXamIIYR-GHnVMv0YUw',\n",
    " 'ChIJ-WrZBBSnIIYRO7IxMrsZSGE',\n",
    " 'ChIJm1B7URynJoYRy9iRt0f00IM',\n",
    " 'ChIJCWDG0jWkIIYRQEyhulm-Ipw',\n",
    " 'ChIJF8hxNximIIYRoZjfss7QIqw',\n",
    " 'ChIJgU4W-XOmIIYRHUi4goKc8X4',\n",
    " 'ChIJ9ykCPRWlIIYR28hIawvpUDg',\n",
    " 'ChIJvbx2Yg2mIIYRWTaHITjoBDA',\n",
    " 'ChIJzasGnQ6mIIYRKaEWRTou0Xs',\n",
    " 'ChIJcZEGOhimIIYR6vv03wETdUY',\n",
    " 'ChIJI8cxE6mlIIYRCCtmHBFOywQ',\n",
    " 'ChIJYQrX9jOkIIYRWTlIub6Sepg',\n",
    " 'ChIJAcNFitWlIIYRzlZVLQ8kr3g',\n",
    " 'ChIJLZDxfRalIIYRzIlhsTh8PVY',\n",
    " 'ChIJS1v_P02kIIYROgnkvo1R3KI',\n",
    " 'ChIJyQn5OhimIIYRBONE5rGMAEI',\n",
    " 'ChIJwSboMhunJoYRmex6Dt31cX8',\n",
    " 'ChIJZ2Xe0w-mIIYR4Rbo9n0qNGE',\n",
    " 'ChIJjfcPpX6vIIYRzGIftgTJVY8',\n",
    " 'ChIJj-SspBylIIYR_jHRDjHXT8I',\n",
    " 'ChIJ0SbJZz2nIIYR2Kprqi9LQkk',\n",
    " 'ChIJh7XugwqmIIYRGleZ75By7Rk',\n",
    " 'ChIJXxgXzq6nIIYRhld-0WPto4c',\n",
    " 'ChIJk0MFNS-mIIYR1HMEq5vVVw8',\n",
    " 'ChIJncpYy4ClIIYRHPLdGNZqBjY',\n",
    " 'ChIJe107bX-mIIYRGIteZ48tENg',\n",
    " 'ChIJj2w_FVGkIIYR_mg2snI6Bo4',\n",
    " 'ChIJHQtBf1unIIYRvphvjXbRr3Y',\n",
    " 'ChIJ_VulgtWlIIYRlhaHGXiG6w0',\n",
    " 'ChIJB2DmoHOlIIYRdZ34MH0Sxh4',\n",
    " 'ChIJR3blxDekIIYRPoGEBnZEtV8',\n",
    " 'ChIJ9zaMF06kIIYRXovQQSTE7X8',\n",
    " 'ChIJxTO0bg6vIIYR1PZ_w420twc',\n",
    " 'ChIJ1zcDwBymIIYRE3c64058fkg',\n",
    " 'ChIJUe-UTU-kIIYRlRXMWpDrE5Q',\n",
    " 'ChIJyfVkh4SnIIYRVIDA0tRlOZw',\n",
    " 'ChIJxcOxleynIIYRFE1iPcZrvgM',\n",
    " 'ChIJaxjesumnIIYR3T4zWdxMf9o',\n",
    " 'ChIJKcckFWKvIIYR0oAlysqsIJs',\n",
    " 'ChIJExCguxmmIIYR7r_EsdB-wnc',\n",
    " 'ChIJF9_ksPOnIIYR_wuWGCpdpEE',\n",
    " 'ChIJ9fYh1i6mIIYR_-Ci3QOp-n0',\n",
    " 'ChIJE2MvTBGlIIYRdbXdpRqY9u0',\n",
    " 'ChIJTwJduw6mIIYRuiRGru82Drg',\n",
    " 'ChIJPeMgpBelIIYR74J1EemHJLM',\n",
    " 'ChIJbRpkvtelIIYRpiXU5OlhxQ0',\n",
    " 'ChIJsUcJFFGkIIYRqtr-omdyXSk',\n",
    " 'ChIJ3-yLfSqnIIYRWlOEO6sulVc',\n",
    " 'ChIJtXneExemIIYRB4m5_Od0oP0',\n",
    " 'ChIJS5XXU-GnIIYRNGX_mxZVnkk',\n",
    " 'ChIJX1EJOmGlIIYRg4fTQdGOvDo',\n",
    " 'ChIJ0y6LGzClIIYRPTl2t3nCDUM',\n",
    " 'ChIJ-_Lw1m2lIIYR63N48-bTi6E',\n",
    " 'ChIJzaMauQ-mIIYRcF7e6wRMD7A',\n",
    " 'ChIJLVTHcX-mIIYR3yL4EXJlkKg',\n",
    " 'ChIJCRP7V4-lIIYRjn-qKCRPbOI',\n",
    " 'ChIJi-hKi1akIIYRTCiqEQUQwp8',\n",
    " 'ChIJyTLbBvqlIIYRSpiByGsj-bQ',\n",
    " 'ChIJjTeq0o6lIIYRpzd50zourpQ',\n",
    " 'ChIJ2y0nIR2nIIYROlY24UKX1KA',\n",
    " 'ChIJU_bKcIalIIYRYpzSzsZV0rQ',\n",
    " 'ChIJn6HhXWKvIIYRH9mOmZLOM4I']"
   ]
  },
  {
   "cell_type": "code",
   "execution_count": 3,
   "id": "fa617197-e452-4a57-9fed-dca0476d131f",
   "metadata": {
    "tags": []
   },
   "outputs": [],
   "source": [
    "# Scrap Places Reviews by Place Ids\n",
    "results = client.google_maps_reviews(\n",
    "    places,\n",
    "    reviews_limit=20, # limit of reviews per each place\n",
    "    limit=1, # limit of palces per each query\n",
    ")"
   ]
  },
  {
   "cell_type": "code",
   "execution_count": null,
   "id": "75a88b62-abab-4074-9b64-8607454936b1",
   "metadata": {},
   "outputs": [],
   "source": [
    "for place in results:\n",
    "    print('---')\n",
    "    print('name:', place['name']) \n",
    "    for review in place.get('reviews_data', []):\n",
    "        print('review:', review['review_text'])\n",
    "        break"
   ]
  },
  {
   "cell_type": "code",
   "execution_count": 3,
   "id": "e250262d-f1b5-4c28-a5a2-17cde4f02bb1",
   "metadata": {
    "tags": []
   },
   "outputs": [],
   "source": [
    "import pickle\n",
    "\n",
    "# Specify the filename where you want to save the list\n",
    "file_name = \"merchant_data.pkl\""
   ]
  },
  {
   "cell_type": "code",
   "execution_count": null,
   "id": "cea88ecb-cc7e-46e2-bb07-2b4a4bd80fe2",
   "metadata": {},
   "outputs": [],
   "source": [
    "# Save the list to a file\n",
    "with open(file_name, \"wb\") as file:\n",
    "    pickle.dump(group_data, file)\n",
    "\n",
    "print(f\"List has been saved to {file_name}\")"
   ]
  },
  {
   "cell_type": "code",
   "execution_count": 4,
   "id": "dfe2f26b-3a38-42e8-8752-5b0cd2c1a25c",
   "metadata": {},
   "outputs": [],
   "source": [
    "# Load the list from the file\n",
    "with open(file_name, \"rb\") as file:\n",
    "    loaded_list = pickle.load(file)\n"
   ]
  },
  {
   "cell_type": "code",
   "execution_count": 7,
   "id": "90ca662b-6bba-4207-95f6-189145d22a4d",
   "metadata": {
    "tags": []
   },
   "outputs": [
    {
     "name": "stdout",
     "output_type": "stream",
     "text": [
      "{'query': 'ChIJ3YIqRDilIIYRNdBADgnHf3s', 'name': '14 Parishes Jamaican Restaurant on Oak', 'place_id': 'ChIJ3YIqRDilIIYRNdBADgnHf3s', 'google_id': '0x8620a538442a82dd:0x7b7fc7090e40d035', 'full_address': '8227 Oak St, New Orleans, LA 70118', 'borough': 'Leonidas', 'street': '8227 Oak St', 'postal_code': '70118', 'area_service': False, 'country_code': 'US', 'country': 'United States of America', 'city': 'New Orleans', 'us_state': 'Louisiana', 'state': 'Louisiana', 'plus_code': '76XFWVX9+FG', 'latitude': 29.948670099999998, 'longitude': -90.1311269, 'time_zone': 'America/Chicago', 'popular_times': [{'day': 7, 'popular_times': [{'hour': 6, 'percentage': 0, 'title': '', 'time': '6a'}, {'hour': 7, 'percentage': 0, 'title': '', 'time': '6a'}, {'hour': 8, 'percentage': 0, 'title': '', 'time': '6a'}, {'hour': 9, 'percentage': 0, 'title': '', 'time': '9a'}, {'hour': 10, 'percentage': 0, 'title': '', 'time': '9a'}, {'hour': 11, 'percentage': 23, 'title': 'Usually not too busy', 'time': '9a'}, {'hour': 12, 'percentage': 30, 'title': 'Usually not too busy', 'time': '12p'}, {'hour': 13, 'percentage': 30, 'title': 'Usually not too busy', 'time': '12p'}, {'hour': 14, 'percentage': 26, 'title': 'Usually not too busy', 'time': '12p'}, {'hour': 15, 'percentage': 0, 'title': '', 'time': '3p'}, {'hour': 16, 'percentage': 0, 'title': '', 'time': '3p'}, {'hour': 17, 'percentage': 16, 'title': 'Usually not busy', 'time': '3p'}, {'hour': 18, 'percentage': 17, 'title': 'Usually not busy', 'time': '6p'}, {'hour': 19, 'percentage': 16, 'title': 'Usually not busy', 'time': '6p'}, {'hour': 20, 'percentage': 11, 'title': 'Usually not busy', 'time': '6p'}, {'hour': 21, 'percentage': 0, 'title': '', 'time': '9p'}, {'hour': 22, 'percentage': 0, 'title': '', 'time': '9p'}, {'hour': 23, 'percentage': 0, 'title': '', 'time': '9p'}]}, {'day': 1, 'popular_times': []}, {'day': 2, 'popular_times': [{'hour': 6, 'percentage': 0, 'title': '', 'time': '6a'}, {'hour': 7, 'percentage': 0, 'title': '', 'time': '6a'}, {'hour': 8, 'percentage': 0, 'title': '', 'time': '6a'}, {'hour': 9, 'percentage': 0, 'title': '', 'time': '9a'}, {'hour': 10, 'percentage': 0, 'title': '', 'time': '9a'}, {'hour': 11, 'percentage': 0, 'title': '', 'time': '9a'}, {'hour': 12, 'percentage': 0, 'title': '', 'time': '12p'}, {'hour': 13, 'percentage': 0, 'title': '', 'time': '12p'}, {'hour': 14, 'percentage': 0, 'title': '', 'time': '12p'}, {'hour': 15, 'percentage': 0, 'title': '', 'time': '3p'}, {'hour': 16, 'percentage': 13, 'title': 'Usually not busy', 'time': '3p'}, {'hour': 17, 'percentage': 19, 'title': 'Usually not busy', 'time': '3p'}, {'hour': 18, 'percentage': 24, 'title': 'Usually not too busy', 'time': '6p'}, {'hour': 19, 'percentage': 21, 'title': 'Usually not too busy', 'time': '6p'}, {'hour': 20, 'percentage': 16, 'title': 'Usually not busy', 'time': '6p'}, {'hour': 21, 'percentage': 0, 'title': '', 'time': '9p'}, {'hour': 22, 'percentage': 0, 'title': '', 'time': '9p'}, {'hour': 23, 'percentage': 0, 'title': '', 'time': '9p'}]}, {'day': 3, 'popular_times': [{'hour': 6, 'percentage': 0, 'title': '', 'time': '6a'}, {'hour': 7, 'percentage': 0, 'title': '', 'time': '6a'}, {'hour': 8, 'percentage': 0, 'title': '', 'time': '6a'}, {'hour': 9, 'percentage': 0, 'title': '', 'time': '9a'}, {'hour': 10, 'percentage': 0, 'title': '', 'time': '9a'}, {'hour': 11, 'percentage': 0, 'title': '', 'time': '9a'}, {'hour': 12, 'percentage': 0, 'title': '', 'time': '12p'}, {'hour': 13, 'percentage': 0, 'title': '', 'time': '12p'}, {'hour': 14, 'percentage': 0, 'title': '', 'time': '12p'}, {'hour': 15, 'percentage': 0, 'title': '', 'time': '3p'}, {'hour': 16, 'percentage': 13, 'title': 'Usually not busy', 'time': '3p'}, {'hour': 17, 'percentage': 15, 'title': 'Usually not busy', 'time': '3p'}, {'hour': 18, 'percentage': 23, 'title': 'Usually not too busy', 'time': '6p'}, {'hour': 19, 'percentage': 23, 'title': 'Usually not too busy', 'time': '6p'}, {'hour': 20, 'percentage': 17, 'title': 'Usually not busy', 'time': '6p'}, {'hour': 21, 'percentage': 0, 'title': '', 'time': '9p'}, {'hour': 22, 'percentage': 0, 'title': '', 'time': '9p'}, {'hour': 23, 'percentage': 0, 'title': '', 'time': '9p'}]}, {'day': 4, 'popular_times': [{'hour': 6, 'percentage': 0, 'title': '', 'time': '6a'}, {'hour': 7, 'percentage': 0, 'title': '', 'time': '6a'}, {'hour': 8, 'percentage': 0, 'title': '', 'time': '6a'}, {'hour': 9, 'percentage': 0, 'title': '', 'time': '9a'}, {'hour': 10, 'percentage': 0, 'title': '', 'time': '9a'}, {'hour': 11, 'percentage': 0, 'title': '', 'time': '9a'}, {'hour': 12, 'percentage': 0, 'title': '', 'time': '12p'}, {'hour': 13, 'percentage': 0, 'title': '', 'time': '12p'}, {'hour': 14, 'percentage': 0, 'title': '', 'time': '12p'}, {'hour': 15, 'percentage': 0, 'title': '', 'time': '3p'}, {'hour': 16, 'percentage': 4, 'title': 'Usually not busy', 'time': '3p'}, {'hour': 17, 'percentage': 9, 'title': 'Usually not busy', 'time': '3p'}, {'hour': 18, 'percentage': 15, 'title': 'Usually not busy', 'time': '6p'}, {'hour': 19, 'percentage': 18, 'title': 'Usually not busy', 'time': '6p'}, {'hour': 20, 'percentage': 16, 'title': 'Usually not busy', 'time': '6p'}, {'hour': 21, 'percentage': 0, 'title': '', 'time': '9p'}, {'hour': 22, 'percentage': 0, 'title': '', 'time': '9p'}, {'hour': 23, 'percentage': 0, 'title': '', 'time': '9p'}]}, {'day': 5, 'popular_times': [{'hour': 6, 'percentage': 0, 'title': '', 'time': '6a'}, {'hour': 7, 'percentage': 0, 'title': '', 'time': '6a'}, {'hour': 8, 'percentage': 0, 'title': '', 'time': '6a'}, {'hour': 9, 'percentage': 0, 'title': '', 'time': '9a'}, {'hour': 10, 'percentage': 0, 'title': '', 'time': '9a'}, {'hour': 11, 'percentage': 15, 'title': 'Usually not busy', 'time': '9a'}, {'hour': 12, 'percentage': 15, 'title': 'Usually not busy', 'time': '12p'}, {'hour': 13, 'percentage': 16, 'title': 'Usually not busy', 'time': '12p'}, {'hour': 14, 'percentage': 17, 'title': 'Usually not busy', 'time': '12p'}, {'hour': 15, 'percentage': 22, 'title': 'Usually not too busy', 'time': '3p'}, {'hour': 16, 'percentage': 26, 'title': 'Usually not too busy', 'time': '3p'}, {'hour': 17, 'percentage': 30, 'title': 'Usually not too busy', 'time': '3p'}, {'hour': 18, 'percentage': 39, 'title': 'Usually not too busy', 'time': '6p'}, {'hour': 19, 'percentage': 44, 'title': 'Usually not too busy', 'time': '6p'}, {'hour': 20, 'percentage': 48, 'title': 'Usually not too busy', 'time': '6p'}, {'hour': 21, 'percentage': 49, 'title': 'Usually not too busy', 'time': '9p'}, {'hour': 22, 'percentage': 0, 'title': '', 'time': '9p'}, {'hour': 23, 'percentage': 0, 'title': '', 'time': '9p'}]}, {'day': 6, 'popular_times': [{'hour': 6, 'percentage': 0, 'title': '', 'time': '6a'}, {'hour': 7, 'percentage': 0, 'title': '', 'time': '6a'}, {'hour': 8, 'percentage': 0, 'title': '', 'time': '6a'}, {'hour': 9, 'percentage': 0, 'title': '', 'time': '9a'}, {'hour': 10, 'percentage': 0, 'title': '', 'time': '9a'}, {'hour': 11, 'percentage': 20, 'title': 'Usually not too busy', 'time': '9a'}, {'hour': 12, 'percentage': 28, 'title': 'Usually not too busy', 'time': '12p'}, {'hour': 13, 'percentage': 38, 'title': 'Usually not too busy', 'time': '12p'}, {'hour': 14, 'percentage': 38, 'title': 'Usually not too busy', 'time': '12p'}, {'hour': 15, 'percentage': 34, 'title': 'Usually not too busy', 'time': '3p'}, {'hour': 16, 'percentage': 33, 'title': 'Usually not too busy', 'time': '3p'}, {'hour': 17, 'percentage': 38, 'title': 'Usually not too busy', 'time': '3p'}, {'hour': 18, 'percentage': 51, 'title': 'Usually a little busy', 'time': '6p'}, {'hour': 19, 'percentage': 60, 'title': 'Usually not too busy', 'time': '6p'}, {'hour': 20, 'percentage': 75, 'title': 'Usually not too busy', 'time': '6p'}, {'hour': 21, 'percentage': 100, 'title': 'Usually as busy as it gets', 'time': '9p'}, {'hour': 22, 'percentage': 0, 'title': '', 'time': '9p'}, {'hour': 23, 'percentage': 0, 'title': '', 'time': '9p'}]}], 'site': 'http://www.14parishes.com/', 'phone': '+1 504-420-7433', 'type': 'Jamaican restaurant', 'logo': 'https://lh3.googleusercontent.com/-Hrl8oiBc2vo/AAAAAAAAAAI/AAAAAAAAAAA/HQlOFhChwew/s44-p-k-no-ns-nd/photo.jpg', 'description': None, 'typical_time_spent': None, 'located_in': None, 'located_google_id': None, 'category': 'restaurants', 'subtypes': 'Jamaican restaurant, Caribbean restaurant', 'posts': None, 'reviews_tags': ['atmosphere', 'mac n cheese', 'rum punch', 'salmon', 'cocktails', 'cornbread', 'shrimp', 'chops', 'wings', 'sweet'], 'rating': 4.4, 'reviews': 178, 'photos_count': 192, 'cid': '8899050230415151157', 'reviews_link': None, 'reviews_id': '8899050230415151157', 'photo': 'https://lh5.googleusercontent.com/p/AF1QipMG1es1jMaQBiQ0jf0qGpABXfevJ7QfWRcsqvEk=w800-h500-k-no', 'street_view': 'https://streetviewpixels-pa.googleapis.com/v1/thumbnail?panoid=X28kAZFxiMoNG9q0Z7gdVg&cb_client=search.gws-prod.gps&w=1600&h=1000&yaw=56.863113&pitch=0&thumbfov=100', 'working_hours_old_format': 'Monday:Closed|Tuesday:4-9PM|Wednesday:4-9PM|Thursday:4-9PM|Friday:11AM-10PM|Saturday:11AM-10PM|Sunday:11AM-3PM,5-9PM', 'working_hours': {'Monday': 'Closed', 'Tuesday': '4-9PM', 'Wednesday': '4-9PM', 'Thursday': '4-9PM', 'Friday': '11AM-10PM', 'Saturday': '11AM-10PM', 'Sunday': '11AM-3PM,5-9PM'}, 'other_hours': [{'dinner': {'Monday': 'Closed', 'Tuesday': '4-9\\u202fPM', 'Wednesday': '4-9\\u202fPM', 'Thursday': '4-9\\u202fPM', 'Friday': '11\\u202fAM-10\\u202fPM', 'Saturday': '11\\u202fAM-10\\u202fPM', 'Sunday': '5-9\\u202fPM'}}, {'brunch': {'Monday': 'Closed', 'Tuesday': 'Closed', 'Wednesday': 'Closed', 'Thursday': 'Closed', 'Friday': 'Closed', 'Saturday': 'Closed', 'Sunday': '11\\u202fAM-3\\u202fPM'}}, {'happy_hours': {'Monday': 'Closed', 'Tuesday': '4-7\\u202fPM', 'Wednesday': '4-7\\u202fPM', 'Thursday': '4-7\\u202fPM', 'Friday': '4-7\\u202fPM', 'Saturday': 'Closed', 'Sunday': 'Closed'}}], 'business_status': 'OPERATIONAL', 'about': {'From the business': {'Identifies as Black-owned': True}, 'Service options': {'Delivery': True, 'Takeout': True, 'Dine-in': True}, 'Highlights': {'Fast service': True}, 'Popular for': {'Lunch': True, 'Dinner': True, 'Solo dining': True}, 'Accessibility': {'Wheelchair accessible entrance': True, 'Wheelchair accessible restroom': True, 'Wheelchair accessible seating': True}, 'Offerings': {'Alcohol': True, 'Beer': True, 'Cocktails': True, 'Coffee': True, 'Comfort food': True, 'Hard liquor': True, 'Small plates': True, 'Vegetarian options': True, 'Wine': True}, 'Dining options': {'Brunch': True, 'Lunch': True, 'Dinner': True, 'Catering': True, 'Dessert': True, 'Seating': True}, 'Amenities': {'Bar onsite': True, 'Restroom': True, 'Wi-Fi': True}, 'Atmosphere': {'Casual': True, 'Cozy': True, 'Trendy': True}, 'Crowd': {'Groups': True, 'Tourists': True}, 'Planning': {'Accepts reservations': True}, 'Payments': {'Credit cards': True, 'Debit cards': True, 'NFC mobile payments': True}, 'Children': {'Good for kids': True, 'High chairs': True}, 'Other': {'Identifies as Black-owned': True}}, 'range': '$$', 'reviews_per_score': {'1': 8, '2': 11, '3': 10, '4': 18, '5': 131}, 'reservation_links': ['/url?q=https://tables.toasttab.com/restaurants/ac3afcbe-b242-496f-ba9b-c1be34e8b825/findTime&opi=79508299&sa=U&ved=0ahUKEwjazNqvyKOCAxXKCrkGHUNUCjAQ2ZABCCcoEw&usg=AOvVaw09EYKa1ZSYpcrw4bRnWWKd', '/url?q=https://resy.com/cities/no/14-parishes-on-oak&opi=79508299&sa=U&ved=0ahUKEwjazNqvyKOCAxXKCrkGHUNUCjAQ2ZABCCgoFA&usg=AOvVaw3up2qkpAgTyBBRYmSlVa70', 'https://www.google.com/maps/reserve/v/dine/c/XZ8eBfoOV3E?source=pa'], 'booking_appointment_link': 'https://tables.toasttab.com/restaurants/ac3afcbe-b242-496f-ba9b-c1be34e8b825/findTime', 'menu_link': '/url?q=https://14parishes.com/new-orleans-14-parishes-jamaican-restaurant-food-menu&opi=79508299&sa=U&ved=0ahUKEwjazNqvyKOCAxXKCrkGHUNUCjAQqRkIJigS&usg=AOvVaw3xBbfawHJkEpXkCv6_WATh', 'order_links': ['https://tables.toasttab.com/restaurants/ac3afcbe-b242-496f-ba9b-c1be34e8b825/findTime', 'https://resy.com/cities/no/14-parishes-on-oak', 'https://www.google.com/maps/reserve/v/dine/c/XZ8eBfoOV3E?source=pa'], 'owner_id': '117865746711004873261', 'verified': True, 'owner_title': '14 Parishes Jamaican Restaurant on Oak', 'owner_link': 'https://www.google.com/maps/contrib/117865746711004873261', 'location_link': 'https://www.google.com/maps/place/14+Parishes+Jamaican+Restaurant+on+Oak/@29.948670099999998,-90.1311269,14z/data=!4m8!1m2!2m1!1s14+Parishes+Jamaican+Restaurant+on+Oak!3m4!1s0x8620a538442a82dd:0x7b7fc7090e40d035!8m2!3d29.948670099999998!4d-90.1311269'}\n"
     ]
    }
   ],
   "source": [
    "print(loaded_list[0][0][0])"
   ]
  }
 ],
 "metadata": {
  "kernelspec": {
   "display_name": "Python 3 (ipykernel)",
   "language": "python",
   "name": "python3"
  },
  "language_info": {
   "codemirror_mode": {
    "name": "ipython",
    "version": 3
   },
   "file_extension": ".py",
   "mimetype": "text/x-python",
   "name": "python",
   "nbconvert_exporter": "python",
   "pygments_lexer": "ipython3",
   "version": "3.11.5"
  }
 },
 "nbformat": 4,
 "nbformat_minor": 5
}
