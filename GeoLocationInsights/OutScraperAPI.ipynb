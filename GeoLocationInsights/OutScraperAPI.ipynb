{
 "cells": [
  {
   "cell_type": "markdown",
   "id": "bdd7b555-3841-4a81-8885-c0bba6930eb5",
   "metadata": {},
   "source": [
    "#  Outscraper\n",
    "\n",
    "https://outscraper.com/places-api-popular-times/\n",
    "\n",
    "you may need to install: ! pip install outscraper\n"
   ]
  },
  {
   "cell_type": "code",
   "execution_count": 1,
   "id": "18afaeb1-3cad-4bb0-b9a4-5e83973873eb",
   "metadata": {},
   "outputs": [],
   "source": [
    "#! pip install outscraper"
   ]
  },
  {
   "cell_type": "code",
   "execution_count": 2,
   "id": "8e0eb447-8b9d-43d0-a995-725465c8e4bb",
   "metadata": {},
   "outputs": [],
   "source": [
    "from outscraper import ApiClient"
   ]
  },
  {
   "cell_type": "markdown",
   "id": "ad845648-5c11-43bd-838b-1ae1e6a54324",
   "metadata": {},
   "source": [
    "### Add Key to Config and retreive get key from config"
   ]
  },
  {
   "cell_type": "code",
   "execution_count": 3,
   "id": "44e993ec-4dd5-4ec0-a266-1fccd46f0734",
   "metadata": {},
   "outputs": [],
   "source": [
    "import json\n",
    "# Load API key from 'config.json'\n",
    "with open('config.json', 'r') as f:\n",
    "    config = json.load(f)\n",
    "    key = config['OUTSCRAPER_API_KEY']"
   ]
  },
  {
   "cell_type": "markdown",
   "id": "07b782f6-1c4e-42b8-92dc-193344ab8598",
   "metadata": {},
   "source": [
    "### Initialize \n"
   ]
  },
  {
   "cell_type": "code",
   "execution_count": 6,
   "id": "481ee8c4-1383-49b3-ae3f-89b1757e285b",
   "metadata": {},
   "outputs": [],
   "source": [
    "client = ApiClient(api_key=key)"
   ]
  },
  {
   "cell_type": "raw",
   "id": "bbedda69-2660-452d-9a91-67dd864cab33",
   "metadata": {},
   "source": [
    " Your config should look like this:{'OPENAI_API_KEY': '<YOURKEYHERE>'}"
   ]
  },
  {
   "cell_type": "markdown",
   "id": "1d7bbbac-96e9-4a68-9a5a-9a4671b64619",
   "metadata": {},
   "source": [
    "## Test to verify by getting info on one place"
   ]
  },
  {
   "cell_type": "code",
   "execution_count": 7,
   "id": "fbf9b460-5621-4486-ac15-990aed4b7695",
   "metadata": {},
   "outputs": [],
   "source": [
    "# Get data of the specific place by id\n",
    "results = client.google_maps_search(['ChIJZ2Xe0w-mIIYR4Rbo9n0qNGE'], language='en')"
   ]
  },
  {
   "cell_type": "code",
   "execution_count": 11,
   "id": "43ab002f-75d5-41a1-9666-89c76c9b3d61",
   "metadata": {},
   "outputs": [
    {
     "data": {
      "text/plain": [
       "'Good Friends Bar'"
      ]
     },
     "execution_count": 11,
     "metadata": {},
     "output_type": "execute_result"
    }
   ],
   "source": [
    "results[0][0]['name']"
   ]
  },
  {
   "cell_type": "markdown",
   "id": "a7498412-33fe-4615-a744-8d65c0006889",
   "metadata": {},
   "source": [
    "### 1\\. **Search for Places**\n",
    "\n",
    "Use the `google_maps_search` endpoint to find places matching your criteria (bars, restaurants, music venues, etc.) in Austin. You can refine your search with specific keywords like \"bars in Austin Texas\" or \"live music venues in Austin\".\n",
    "\n",
    "*   **Data Collection**: Perform searches based on your criteria and collect the results.\n",
    "*   **Save the Data**: Store the collected data in a JSON file for later analysis.\n",
    "\n",
    "\n"
   ]
  },
  {
   "cell_type": "code",
   "execution_count": 16,
   "id": "6dfa61fa-ba44-40de-99dc-ea3b8581ee6f",
   "metadata": {},
   "outputs": [],
   "source": [
    "search_queries = ['bars in Austin TX', 'restaurants in Austin TX', 'live music in Austin TX']\n",
    "all_results = []\n",
    "\n",
    "for query in search_queries:\n",
    "    results = client.google_maps_search(query=query, language='en', region='US')\n",
    "    all_results.extend(results)\n"
   ]
  },
  {
   "cell_type": "markdown",
   "id": "693f0f89-535f-4fbe-9df9-268e9aa6856f",
   "metadata": {},
   "source": [
    "This process ensures that all your collected data is saved and can be accessed for any future analysis without the need to re-run the potentially time-consuming and rate-limited API queries."
   ]
  },
  {
   "cell_type": "code",
   "execution_count": 21,
   "id": "fbc4fb60-6ec9-4ba2-a2b2-9c7f21a21848",
   "metadata": {},
   "outputs": [],
   "source": [
    "import json\n",
    "\n",
    "with open('outscraper_results.json', 'w') as outfile:\n",
    "    json.dump(all_results, outfile)\n"
   ]
  },
  {
   "cell_type": "markdown",
   "id": "ad188250-8e41-4623-b47f-4d8d90b18a95",
   "metadata": {},
   "source": [
    "**Load the Data** Read the saved JSON file into a Python variable.\n",
    "\n",
    "\n",
    "\n"
   ]
  },
  {
   "cell_type": "code",
   "execution_count": 22,
   "id": "71462507-db17-4d2f-b8c9-81dab15282ea",
   "metadata": {},
   "outputs": [],
   "source": [
    "with open('outscraper_results.json', 'r') as infile:\n",
    "    loaded_data = json.load(infile)\n"
   ]
  },
  {
   "cell_type": "code",
   "execution_count": null,
   "id": "2d1f95bc-ad36-4c87-bd2a-d45bceb01144",
   "metadata": {},
   "outputs": [],
   "source": []
  },
  {
   "cell_type": "code",
   "execution_count": 25,
   "id": "fa16eb3a-9e8a-42ec-9144-726ee07577f1",
   "metadata": {},
   "outputs": [
    {
     "name": "stdout",
     "output_type": "stream",
     "text": [
      "Average rating: 4.522033898305085\n"
     ]
    }
   ],
   "source": [
    "# Filter out venues where 'rating' is None before calculating the average\n",
    "ratings = [venue['rating'] for result in loaded_data for venue in result if 'rating' in venue and venue['rating'] is not None]\n",
    "\n",
    "# Calculate the average rating, ensuring there are ratings to avoid division by zero\n",
    "average_rating = sum(ratings) / len(ratings) if ratings else 0\n",
    "print(f'Average rating: {average_rating}')\n"
   ]
  }
 ],
 "metadata": {
  "kernelspec": {
   "display_name": "Python 3 (ipykernel)",
   "language": "python",
   "name": "python3"
  },
  "language_info": {
   "codemirror_mode": {
    "name": "ipython",
    "version": 3
   },
   "file_extension": ".py",
   "mimetype": "text/x-python",
   "name": "python",
   "nbconvert_exporter": "python",
   "pygments_lexer": "ipython3",
   "version": "3.11.5"
  }
 },
 "nbformat": 4,
 "nbformat_minor": 5
}
