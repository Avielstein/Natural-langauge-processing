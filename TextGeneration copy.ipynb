{
 "cells": [
  {
   "cell_type": "code",
   "execution_count": null,
   "metadata": {},
   "outputs": [],
   "source": [
    "#text generation\n",
    "#https://towardsdatascience.com/creating-a-poems-generator-using-word-embeddings-bcc43248de4f\n",
    "\n",
    "'''\n",
    "1.Generate a sentence, randomly or from a list of keywords/initials. This is based on Brown corpus. https://github.com/patarapolw/randomsentence\n",
    "2. githubs related to sentence generation - https://github.com/patarapolw/randomsentence \n",
    "3.simple markov chain with python https://www.jeffcarp.com/posts/2019/markov-chain-python/\n",
    "4. Text Generation with Python and TensorFlow/Keras - https://stackabuse.com/text-generation-with-python-and-tensorflow-keras/\n",
    "5. Generating Syntactically Correct Sentences by Markov-Modeling Dependency Parse Trees - http://jeremybmerrill.com/blog/2019/01/nlg-experiment.html - https://github.com/jeremybmerrill/ineffable_wizardry_of_structure\n",
    " Dead Simple Document Generation - https://pypi.org/project/essential-generators/\n",
    "FakeNewsHeadlineGenerator - https://towardsdatascience.com/using-a-markov-chain-sentence-generator-in-python-to-generate-real-fake-news-e9c904e967e\n",
    "'''"
   ]
  }
 ],
 "metadata": {
  "kernelspec": {
   "display_name": "Python 3 (ipykernel)",
   "language": "python",
   "name": "python3"
  },
  "language_info": {
   "codemirror_mode": {
    "name": "ipython",
    "version": 3
   },
   "file_extension": ".py",
   "mimetype": "text/x-python",
   "name": "python",
   "nbconvert_exporter": "python",
   "pygments_lexer": "ipython3",
   "version": "3.11.5"
  }
 },
 "nbformat": 4,
 "nbformat_minor": 4
}
