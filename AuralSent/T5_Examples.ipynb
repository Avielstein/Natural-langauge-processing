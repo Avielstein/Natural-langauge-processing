{
 "cells": [
  {
   "cell_type": "markdown",
   "id": "eb83d605-2fdf-4d26-9c5c-00f399635b2c",
   "metadata": {},
   "source": [
    "# T5 set up"
   ]
  },
  {
   "cell_type": "code",
   "execution_count": 1,
   "id": "b10cee98-29f7-4c8f-a7a8-e614380b841b",
   "metadata": {},
   "outputs": [],
   "source": [
    "### Installations\n",
    "#!pip install jupyterlab torch torchvision torchaudio transformers datasets\n",
    "#!pip install sentencepiece\n"
   ]
  },
  {
   "cell_type": "code",
   "execution_count": 5,
   "id": "35819146-5e7d-4cca-b470-f3c4636170db",
   "metadata": {},
   "outputs": [
    {
     "name": "stderr",
     "output_type": "stream",
     "text": [
      "Special tokens have been added in the vocabulary, make sure the associated word embeddings are fine-tuned or trained.\n"
     ]
    }
   ],
   "source": [
    "from transformers import T5ForConditionalGeneration, T5Tokenizer\n",
    "tokenizer = T5Tokenizer.from_pretrained('t5-small')\n",
    "model = T5ForConditionalGeneration.from_pretrained('t5-small')\n"
   ]
  },
  {
   "cell_type": "code",
   "execution_count": 15,
   "id": "a3c166a0-e428-4565-90bf-be35503f4477",
   "metadata": {},
   "outputs": [
    {
     "name": "stderr",
     "output_type": "stream",
     "text": [
      "Special tokens have been added in the vocabulary, make sure the associated word embeddings are fine-tuned or trained.\n"
     ]
    },
    {
     "name": "stdout",
     "output_type": "stream",
     "text": [
      "the history of natural language processing (NLP) started in the 1950s. in 1950, Alan Turing published an article titled \"Computing Machinery and Intelligence\"\n"
     ]
    }
   ],
   "source": [
    "\n",
    "# Initialize the tokenizer and model\n",
    "tokenizer = T5Tokenizer.from_pretrained('t5-small')\n",
    "model = T5ForConditionalGeneration.from_pretrained('t5-small')\n",
    "\n",
    "# The text to be summarized\n",
    "text = \"\"\"\n",
    "The history of natural language processing (NLP) generally started in the 1950s, although work can be found from earlier periods. \n",
    "In 1950, Alan Turing published an article titled \"Computing Machinery and Intelligence\" which proposed what is now called the Turing Test as a criterion of intelligence.\n",
    "\"\"\"\n",
    "\n",
    "# Prepend the prefix \"summarize: \" to the text\n",
    "input_ids = tokenizer.encode(\"summarize: \" + text, return_tensors=\"pt\", max_length=512, truncation=True)\n",
    "\n",
    "# Generate the summary\n",
    "summary_ids = model.generate(input_ids, max_length=100, min_length=5, length_penalty=2.0, num_beams=4, early_stopping=True)\n",
    "summary = tokenizer.decode(summary_ids[0], skip_special_tokens=True)\n",
    "\n",
    "print(summary)"
   ]
  },
  {
   "cell_type": "code",
   "execution_count": 21,
   "id": "f768ac85-caa6-4650-b489-0754ceb7abd2",
   "metadata": {},
   "outputs": [
    {
     "name": "stdout",
     "output_type": "stream",
     "text": [
      "Sentiment: Was is the sentiment?: What is the sentiment?\n"
     ]
    }
   ],
   "source": [
    "def classify_sentiment(text):\n",
    "    input_text = f\"What is the sentiment?: {text}\"\n",
    "    input_ids = tokenizer.encode(input_text, return_tensors='pt')\n",
    "    \n",
    "    # Generate the sentiment\n",
    "    outputs = model.generate(input_ids, max_length=100)\n",
    "    sentiment = tokenizer.decode(outputs[0], skip_special_tokens=True)\n",
    "    \n",
    "    return sentiment\n",
    "\n",
    "# Example text\n",
    "text = \"What is going on?\"\n",
    "\n",
    "# Classify sentiment\n",
    "sentiment = classify_sentiment(text)\n",
    "print(f\"Sentiment: {sentiment}\")\n"
   ]
  },
  {
   "cell_type": "code",
   "execution_count": null,
   "id": "fc54ec6e-6dad-4906-8322-5fdd414fbab1",
   "metadata": {},
   "outputs": [],
   "source": []
  }
 ],
 "metadata": {
  "kernelspec": {
   "display_name": "Python 3 (ipykernel)",
   "language": "python",
   "name": "python3"
  },
  "language_info": {
   "codemirror_mode": {
    "name": "ipython",
    "version": 3
   },
   "file_extension": ".py",
   "mimetype": "text/x-python",
   "name": "python",
   "nbconvert_exporter": "python",
   "pygments_lexer": "ipython3",
   "version": "3.11.5"
  }
 },
 "nbformat": 4,
 "nbformat_minor": 5
}
