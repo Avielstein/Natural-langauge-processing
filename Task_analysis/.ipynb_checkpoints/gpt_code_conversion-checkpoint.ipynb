{
 "cells": [
  {
   "cell_type": "markdown",
   "id": "6e8ef1f9-c4d2-4bcd-9de7-959d4a2ec17e",
   "metadata": {},
   "source": [
    "# GPT Functionality extraction"
   ]
  },
  {
   "cell_type": "code",
   "execution_count": 1,
   "id": "aec92768-b005-48f9-94aa-93569dba6019",
   "metadata": {},
   "outputs": [
    {
     "name": "stdout",
     "output_type": "stream",
     "text": [
      "version: 1.13.3\n"
     ]
    }
   ],
   "source": [
    "import json\n",
    "import openai  # Ensure this import is here\n",
    "# new\n",
    "from openai import OpenAI\n",
    "from openai import AsyncOpenAI\n",
    "#!pip install --upgrade openai ## another way to update\n",
    "#!openai migrate #use this to update the version\n",
    "print('version:',openai.__version__)"
   ]
  },
  {
   "cell_type": "code",
   "execution_count": 2,
   "id": "ed09e849-8687-44e7-8336-e6145d81d6a3",
   "metadata": {},
   "outputs": [],
   "source": [
    "# Load API key from 'config.json'\n",
    "with open('config.json', 'r') as f:\n",
    "    config = json.load(f)\n",
    "    api_key = config['OPENAI_API_KEY']\n",
    "\n",
    "# Initialize the OpenAI client with the API key\n",
    "client = AsyncOpenAI(api_key=api_key)"
   ]
  },
  {
   "cell_type": "code",
   "execution_count": 4,
   "id": "c5056548-5262-43fb-9ce7-afc2c0ffb2de",
   "metadata": {},
   "outputs": [
    {
     "ename": "IndexError",
     "evalue": "list index out of range",
     "output_type": "error",
     "traceback": [
      "\u001b[0;31m---------------------------------------------------------------------------\u001b[0m",
      "\u001b[0;31mIndexError\u001b[0m                                Traceback (most recent call last)",
      "Cell \u001b[0;32mIn[4], line 15\u001b[0m\n\u001b[1;32m     12\u001b[0m completion \u001b[38;5;241m=\u001b[39m \u001b[38;5;28;01mawait\u001b[39;00m generate_text_completion(prompt)\n\u001b[1;32m     14\u001b[0m \u001b[38;5;66;03m# Adjusted access to the message content\u001b[39;00m\n\u001b[0;32m---> 15\u001b[0m \u001b[38;5;28mprint\u001b[39m(completion\u001b[38;5;241m.\u001b[39mchoices[\u001b[38;5;241m1\u001b[39m]\u001b[38;5;241m.\u001b[39mmessage\u001b[38;5;241m.\u001b[39mcontent)\n",
      "\u001b[0;31mIndexError\u001b[0m: list index out of range"
     ]
    }
   ],
   "source": [
    "async def generate_text_completion(prompt):\n",
    "    completion = await client.chat.completions.create(\n",
    "        model=\"gpt-3.5-turbo\",\n",
    "        messages=[\n",
    "            {\"role\": \"system\", \"content\": \"You are a witty assistant.\"},\n",
    "            {\"role\": \"user\", \"content\": prompt}\n",
    "        ]\n",
    "    )\n",
    "    return completion\n",
    "\n",
    "prompt = \"Tell me a joke about AI.\"\n",
    "completion = await generate_text_completion(prompt)\n",
    "\n",
    "\n"
   ]
  },
  {
   "cell_type": "code",
   "execution_count": 5,
   "id": "86d0ec59-4b98-4411-a461-d7e2ab0541d8",
   "metadata": {},
   "outputs": [
    {
     "name": "stdout",
     "output_type": "stream",
     "text": [
      "Why did the AI break up with the computer? It couldn't handle its emotional baggage!\n"
     ]
    }
   ],
   "source": [
    "# Adjusted access to the message content\n",
    "print(completion.choices[0].message.content)"
   ]
  }
 ],
 "metadata": {
  "kernelspec": {
   "display_name": "Python 3 (ipykernel)",
   "language": "python",
   "name": "python3"
  },
  "language_info": {
   "codemirror_mode": {
    "name": "ipython",
    "version": 3
   },
   "file_extension": ".py",
   "mimetype": "text/x-python",
   "name": "python",
   "nbconvert_exporter": "python",
   "pygments_lexer": "ipython3",
   "version": "3.11.5"
  }
 },
 "nbformat": 4,
 "nbformat_minor": 5
}
