{
 "cells": [
  {
   "cell_type": "markdown",
   "id": "6e8ef1f9-c4d2-4bcd-9de7-959d4a2ec17e",
   "metadata": {},
   "source": [
    "# GPT Functionality extraction"
   ]
  },
  {
   "cell_type": "code",
   "execution_count": 1,
   "id": "aec92768-b005-48f9-94aa-93569dba6019",
   "metadata": {},
   "outputs": [
    {
     "name": "stdout",
     "output_type": "stream",
     "text": [
      "version: 1.13.3\n"
     ]
    }
   ],
   "source": [
    "import json\n",
    "import openai  # Ensure this import is here\n",
    "# new\n",
    "from openai import OpenAI\n",
    "from openai import AsyncOpenAI\n",
    "#!pip install --upgrade openai ## another way to update\n",
    "#!openai migrate #use this to update the version\n",
    "print('version:',openai.__version__)\n",
    "\n",
    "\n",
    "import nest_asyncio\n",
    "nest_asyncio.apply()\n",
    "\n",
    "import asyncio\n",
    "import pandas as pd\n",
    "import os\n",
    "from tqdm.asyncio import tqdm"
   ]
  },
  {
   "cell_type": "code",
   "execution_count": 2,
   "id": "ed09e849-8687-44e7-8336-e6145d81d6a3",
   "metadata": {},
   "outputs": [],
   "source": [
    "# Load API key from 'config.json'\n",
    "with open('../config.json', 'r') as f:\n",
    "    config = json.load(f)\n",
    "    api_key = config['OPENAI_API_KEY']\n",
    "\n",
    "# Initialize the OpenAI client with the API key\n",
    "client = AsyncOpenAI(api_key=api_key)"
   ]
  },
  {
   "cell_type": "markdown",
   "id": "8e449e2e-39d3-4e17-9118-596f58411564",
   "metadata": {},
   "source": [
    "### Basic api call "
   ]
  },
  {
   "cell_type": "code",
   "execution_count": 3,
   "id": "c5056548-5262-43fb-9ce7-afc2c0ffb2de",
   "metadata": {},
   "outputs": [],
   "source": [
    "async def generate_text_completion(prompt):\n",
    "    completion = await client.chat.completions.create(\n",
    "        model=\"gpt-3.5-turbo\",\n",
    "        messages=[\n",
    "            {\"role\": \"system\", \"content\": \"You are a witty assistant.\"},\n",
    "            {\"role\": \"user\", \"content\": prompt}\n",
    "        ]\n",
    "    )\n",
    "    return completion"
   ]
  },
  {
   "cell_type": "markdown",
   "id": "21c20560-ee1b-431b-8ebd-f2753a1693b4",
   "metadata": {},
   "source": [
    "### Test"
   ]
  },
  {
   "cell_type": "code",
   "execution_count": 4,
   "id": "86d0ec59-4b98-4411-a461-d7e2ab0541d8",
   "metadata": {},
   "outputs": [
    {
     "name": "stdout",
     "output_type": "stream",
     "text": [
      "Why did the AI go to therapy? Because it had too many unresolved loops!\n"
     ]
    }
   ],
   "source": [
    "## Test\n",
    "prompt = \"Tell me a joke about AI.\"\n",
    "completion = await generate_text_completion(prompt)\n",
    "\n",
    "# Adjusted access to the message content\n",
    "print(completion.choices[0].message.content)"
   ]
  },
  {
   "cell_type": "markdown",
   "id": "88613652-800d-496f-9f87-2398628facb1",
   "metadata": {},
   "source": [
    "## Use open AI to convert the documents"
   ]
  },
  {
   "cell_type": "code",
   "execution_count": 5,
   "id": "001dd2c6-c7f1-4644-8aed-7bdccca31d9c",
   "metadata": {},
   "outputs": [],
   "source": [
    "# Assuming the convert_code_to_doc function is defined elsewhere and it's asynchronous\n",
    "async def convert_code_to_doc(code):\n",
    "    prompt = \"What is the function of this code?\\n\\n\" + code\n",
    "    completion = await generate_text_completion(prompt)\n",
    "    return completion.choices[0].message.content"
   ]
  },
  {
   "cell_type": "markdown",
   "id": "dd109ecd-8bb1-44e7-82dd-8bd7e998c247",
   "metadata": {},
   "source": [
    "### iterate"
   ]
  },
  {
   "cell_type": "markdown",
   "id": "daae3257-2417-42a6-b44b-e6a5f9e76f8a",
   "metadata": {},
   "source": [
    "#### Quality of life, add a loading bar\n",
    "\n",
    "!pip install tqdm\n",
    "\n",
    "!pip install --upgrade bottleneck\n"
   ]
  },
  {
   "cell_type": "markdown",
   "id": "21062ed6-c6e9-4dd0-b7ac-ab846a94e79b",
   "metadata": {},
   "source": [
    "## Process files (Async)"
   ]
  },
  {
   "cell_type": "code",
   "execution_count": 6,
   "id": "9dbe7d58-f46f-44bb-bf81-06aba5715c79",
   "metadata": {},
   "outputs": [],
   "source": [
    "async def process_file(task, filename, task_path):\n",
    "    file_path = os.path.join(task_path, filename)\n",
    "    with open(file_path, 'r') as file:\n",
    "        content = file.read()\n",
    "    analysis_result = await convert_code_to_doc(content)\n",
    "    return {'task': task, 'analysis_text': analysis_result}\n",
    "\n",
    "async def process_tasks(tasks, directory_path):\n",
    "    tasks_data = []\n",
    "    for task in tasks:\n",
    "        task_path = os.path.join(directory_path, task)\n",
    "        files = [f for f in os.listdir(task_path) if f.endswith('.cpp')]\n",
    "        for filename in tqdm(files, desc=f'Processing {task}', unit='file'):\n",
    "            file_data = await process_file(task, filename, task_path)  # Ensure this is properly awaited\n",
    "            tasks_data.append(file_data)\n",
    "    return tasks_data\n"
   ]
  },
  {
   "cell_type": "code",
   "execution_count": 7,
   "id": "fee16ab8-837c-4976-b870-4a9ad1569842",
   "metadata": {},
   "outputs": [
    {
     "name": "stderr",
     "output_type": "stream",
     "text": [
      "Processing A.I._War: 100%|████████████████████| 10/10 [00:22<00:00,  2.25s/file]\n",
      "Processing Alien_Language: 100%|██████████████| 10/10 [00:24<00:00,  2.41s/file]\n",
      "Processing Ample_Syrup: 100%|█████████████████| 10/10 [00:26<00:00,  2.65s/file]\n",
      "Processing A_Digging_Problem: 100%|███████████| 10/10 [00:21<00:00,  2.16s/file]\n",
      "Processing All_Your_Base: 100%|███████████████| 10/10 [00:24<00:00,  2.48s/file]\n",
      "Processing Apocalypse_Soon: 100%|█████████████| 10/10 [00:21<00:00,  2.18s/file]\n",
      "Processing Ace_in_the_Hole: 100%|███████████████| 6/6 [00:10<00:00,  1.74s/file]\n",
      "Processing Allergy_Testing: 100%|█████████████| 10/10 [00:20<00:00,  2.01s/file]\n",
      "Processing Are_We_Lost_Yet?: 100%|████████████| 10/10 [00:23<00:00,  2.35s/file]\n",
      "Processing Aerobics: 100%|████████████████████| 10/10 [00:29<00:00,  2.91s/file]\n",
      "Processing Alphabet_Cake: 100%|███████████████| 10/10 [00:20<00:00,  2.05s/file]\n",
      "Processing Airport_Walkways: 100%|████████████| 10/10 [00:22<00:00,  2.23s/file]\n",
      "Processing Alphabetomials: 100%|██████████████| 10/10 [00:25<00:00,  2.54s/file]\n"
     ]
    }
   ],
   "source": [
    "import asyncio\n",
    "import pandas as pd\n",
    "\n",
    "# Assuming the definitions of convert_code_to_doc, process_file, and process_tasks are as before\n",
    "\n",
    "# Directory containing the .cpp files\n",
    "directory_path = 'tasks/'\n",
    "\n",
    "# List of tasks to categorize files into\n",
    "tasks = [\n",
    "    \"A.I._War\", \"Alien_Language\", \"Ample_Syrup\",\n",
    "    \"A_Digging_Problem\", \"All_Your_Base\", \"Apocalypse_Soon\",\n",
    "    \"Ace_in_the_Hole\", \"Allergy_Testing\", \"Are_We_Lost_Yet?\",\n",
    "    \"Aerobics\", \"Alphabet_Cake\",\n",
    "    \"Airport_Walkways\", \"Alphabetomials\"\n",
    "]\n",
    "\n",
    "# Adjusted approach for running the async process in an already running event loop environment\n",
    "# Directly await the asynchronous operation\n",
    "tasks_data = await process_tasks(tasks, directory_path)  # This directly uses await\n",
    "df = pd.DataFrame(tasks_data)\n",
    "\n",
    "# Proceed to save the DataFrame to CSV as before\n",
    "df.to_csv('analysis_dataset.csv', index=False)"
   ]
  },
  {
   "cell_type": "markdown",
   "id": "539fa5c5-f549-4675-8f16-20ab3354b71b",
   "metadata": {},
   "source": [
    "## Basic model with TFIDF"
   ]
  },
  {
   "cell_type": "code",
   "execution_count": 11,
   "id": "453082d0-1ddf-4b15-85ba-e78e3a4e3244",
   "metadata": {},
   "outputs": [
    {
     "name": "stdout",
     "output_type": "stream",
     "text": [
      "Epoch 1/100\n",
      "3/3 [==============================] - 1s 75ms/step - loss: 2.5653 - accuracy: 0.0444 - val_loss: 2.5503 - val_accuracy: 0.2000\n",
      "Epoch 2/100\n",
      "3/3 [==============================] - 0s 15ms/step - loss: 2.4737 - accuracy: 0.8111 - val_loss: 2.5212 - val_accuracy: 0.5000\n",
      "Epoch 3/100\n",
      "3/3 [==============================] - 0s 16ms/step - loss: 2.3824 - accuracy: 1.0000 - val_loss: 2.4789 - val_accuracy: 0.5000\n",
      "Epoch 4/100\n",
      "3/3 [==============================] - 0s 15ms/step - loss: 2.2665 - accuracy: 1.0000 - val_loss: 2.4217 - val_accuracy: 0.5000\n",
      "Epoch 5/100\n",
      "3/3 [==============================] - 0s 15ms/step - loss: 2.1135 - accuracy: 1.0000 - val_loss: 2.3456 - val_accuracy: 0.5000\n",
      "Epoch 6/100\n",
      "3/3 [==============================] - 0s 14ms/step - loss: 1.9139 - accuracy: 1.0000 - val_loss: 2.2393 - val_accuracy: 0.5000\n",
      "Epoch 7/100\n",
      "3/3 [==============================] - 0s 14ms/step - loss: 1.6651 - accuracy: 1.0000 - val_loss: 2.1052 - val_accuracy: 0.5000\n",
      "Epoch 8/100\n",
      "3/3 [==============================] - 0s 15ms/step - loss: 1.3801 - accuracy: 1.0000 - val_loss: 1.9489 - val_accuracy: 0.5000\n",
      "Epoch 9/100\n",
      "3/3 [==============================] - 0s 18ms/step - loss: 1.0646 - accuracy: 1.0000 - val_loss: 1.7579 - val_accuracy: 0.5000\n",
      "Epoch 10/100\n",
      "3/3 [==============================] - 0s 18ms/step - loss: 0.7601 - accuracy: 1.0000 - val_loss: 1.5463 - val_accuracy: 0.5000\n",
      "Epoch 11/100\n",
      "3/3 [==============================] - 0s 19ms/step - loss: 0.4955 - accuracy: 1.0000 - val_loss: 1.3327 - val_accuracy: 0.6000\n",
      "Epoch 12/100\n",
      "3/3 [==============================] - 0s 19ms/step - loss: 0.2946 - accuracy: 1.0000 - val_loss: 1.1586 - val_accuracy: 0.6000\n",
      "Epoch 13/100\n",
      "3/3 [==============================] - 0s 20ms/step - loss: 0.1650 - accuracy: 1.0000 - val_loss: 1.0187 - val_accuracy: 0.7000\n",
      "Epoch 14/100\n",
      "3/3 [==============================] - 0s 17ms/step - loss: 0.0923 - accuracy: 1.0000 - val_loss: 0.9115 - val_accuracy: 0.7000\n",
      "Epoch 15/100\n",
      "3/3 [==============================] - 0s 18ms/step - loss: 0.0521 - accuracy: 1.0000 - val_loss: 0.8470 - val_accuracy: 0.7000\n",
      "Epoch 16/100\n",
      "3/3 [==============================] - 0s 19ms/step - loss: 0.0309 - accuracy: 1.0000 - val_loss: 0.8026 - val_accuracy: 0.7000\n",
      "Epoch 17/100\n",
      "3/3 [==============================] - 0s 17ms/step - loss: 0.0196 - accuracy: 1.0000 - val_loss: 0.7782 - val_accuracy: 0.7000\n",
      "Epoch 18/100\n",
      "3/3 [==============================] - 0s 19ms/step - loss: 0.0133 - accuracy: 1.0000 - val_loss: 0.7622 - val_accuracy: 0.7000\n",
      "Epoch 19/100\n",
      "3/3 [==============================] - 0s 19ms/step - loss: 0.0096 - accuracy: 1.0000 - val_loss: 0.7492 - val_accuracy: 0.6000\n",
      "Epoch 20/100\n",
      "3/3 [==============================] - 0s 19ms/step - loss: 0.0073 - accuracy: 1.0000 - val_loss: 0.7376 - val_accuracy: 0.6000\n",
      "Epoch 21/100\n",
      "3/3 [==============================] - 0s 19ms/step - loss: 0.0059 - accuracy: 1.0000 - val_loss: 0.7283 - val_accuracy: 0.6000\n",
      "Epoch 22/100\n",
      "3/3 [==============================] - 0s 18ms/step - loss: 0.0049 - accuracy: 1.0000 - val_loss: 0.7193 - val_accuracy: 0.6000\n",
      "Epoch 23/100\n",
      "3/3 [==============================] - 0s 18ms/step - loss: 0.0042 - accuracy: 1.0000 - val_loss: 0.7103 - val_accuracy: 0.6000\n",
      "Epoch 24/100\n",
      "3/3 [==============================] - 0s 19ms/step - loss: 0.0038 - accuracy: 1.0000 - val_loss: 0.7039 - val_accuracy: 0.6000\n",
      "Epoch 25/100\n",
      "3/3 [==============================] - 0s 18ms/step - loss: 0.0034 - accuracy: 1.0000 - val_loss: 0.6976 - val_accuracy: 0.6000\n",
      "Epoch 26/100\n",
      "3/3 [==============================] - 0s 18ms/step - loss: 0.0031 - accuracy: 1.0000 - val_loss: 0.6921 - val_accuracy: 0.6000\n",
      "Epoch 27/100\n",
      "3/3 [==============================] - 0s 19ms/step - loss: 0.0029 - accuracy: 1.0000 - val_loss: 0.6882 - val_accuracy: 0.6000\n",
      "Epoch 28/100\n",
      "3/3 [==============================] - 0s 19ms/step - loss: 0.0027 - accuracy: 1.0000 - val_loss: 0.6843 - val_accuracy: 0.6000\n",
      "Epoch 29/100\n",
      "3/3 [==============================] - 0s 18ms/step - loss: 0.0026 - accuracy: 1.0000 - val_loss: 0.6812 - val_accuracy: 0.6000\n",
      "Epoch 30/100\n",
      "3/3 [==============================] - 0s 18ms/step - loss: 0.0024 - accuracy: 1.0000 - val_loss: 0.6789 - val_accuracy: 0.6000\n",
      "Epoch 31/100\n",
      "3/3 [==============================] - 0s 17ms/step - loss: 0.0023 - accuracy: 1.0000 - val_loss: 0.6767 - val_accuracy: 0.6000\n",
      "Epoch 32/100\n",
      "3/3 [==============================] - 0s 17ms/step - loss: 0.0022 - accuracy: 1.0000 - val_loss: 0.6754 - val_accuracy: 0.6000\n",
      "Epoch 33/100\n",
      "3/3 [==============================] - 0s 15ms/step - loss: 0.0022 - accuracy: 1.0000 - val_loss: 0.6729 - val_accuracy: 0.6000\n",
      "Epoch 34/100\n",
      "3/3 [==============================] - 0s 15ms/step - loss: 0.0021 - accuracy: 1.0000 - val_loss: 0.6711 - val_accuracy: 0.6000\n",
      "Epoch 35/100\n",
      "3/3 [==============================] - 0s 15ms/step - loss: 0.0020 - accuracy: 1.0000 - val_loss: 0.6693 - val_accuracy: 0.6000\n",
      "Epoch 36/100\n",
      "3/3 [==============================] - 0s 16ms/step - loss: 0.0019 - accuracy: 1.0000 - val_loss: 0.6679 - val_accuracy: 0.6000\n",
      "Epoch 37/100\n",
      "3/3 [==============================] - 0s 15ms/step - loss: 0.0019 - accuracy: 1.0000 - val_loss: 0.6657 - val_accuracy: 0.6000\n",
      "Epoch 38/100\n",
      "3/3 [==============================] - 0s 15ms/step - loss: 0.0018 - accuracy: 1.0000 - val_loss: 0.6643 - val_accuracy: 0.6000\n",
      "Epoch 39/100\n",
      "3/3 [==============================] - 0s 16ms/step - loss: 0.0018 - accuracy: 1.0000 - val_loss: 0.6625 - val_accuracy: 0.6000\n",
      "Epoch 40/100\n",
      "3/3 [==============================] - 0s 16ms/step - loss: 0.0017 - accuracy: 1.0000 - val_loss: 0.6610 - val_accuracy: 0.6000\n",
      "Epoch 41/100\n",
      "3/3 [==============================] - 0s 15ms/step - loss: 0.0017 - accuracy: 1.0000 - val_loss: 0.6606 - val_accuracy: 0.6000\n",
      "Epoch 42/100\n",
      "3/3 [==============================] - 0s 14ms/step - loss: 0.0016 - accuracy: 1.0000 - val_loss: 0.6604 - val_accuracy: 0.6000\n",
      "Epoch 43/100\n",
      "3/3 [==============================] - 0s 15ms/step - loss: 0.0016 - accuracy: 1.0000 - val_loss: 0.6602 - val_accuracy: 0.6000\n",
      "Epoch 44/100\n",
      "3/3 [==============================] - 0s 15ms/step - loss: 0.0016 - accuracy: 1.0000 - val_loss: 0.6596 - val_accuracy: 0.6000\n",
      "Epoch 45/100\n",
      "3/3 [==============================] - 0s 15ms/step - loss: 0.0015 - accuracy: 1.0000 - val_loss: 0.6590 - val_accuracy: 0.6000\n",
      "Epoch 46/100\n",
      "3/3 [==============================] - 0s 16ms/step - loss: 0.0015 - accuracy: 1.0000 - val_loss: 0.6580 - val_accuracy: 0.6000\n",
      "Epoch 47/100\n",
      "3/3 [==============================] - 0s 15ms/step - loss: 0.0014 - accuracy: 1.0000 - val_loss: 0.6575 - val_accuracy: 0.6000\n",
      "Epoch 48/100\n",
      "3/3 [==============================] - 0s 16ms/step - loss: 0.0014 - accuracy: 1.0000 - val_loss: 0.6568 - val_accuracy: 0.6000\n",
      "Epoch 49/100\n",
      "3/3 [==============================] - 0s 15ms/step - loss: 0.0014 - accuracy: 1.0000 - val_loss: 0.6558 - val_accuracy: 0.6000\n",
      "Epoch 50/100\n",
      "3/3 [==============================] - 0s 15ms/step - loss: 0.0013 - accuracy: 1.0000 - val_loss: 0.6550 - val_accuracy: 0.6000\n",
      "Epoch 51/100\n",
      "3/3 [==============================] - 0s 16ms/step - loss: 0.0013 - accuracy: 1.0000 - val_loss: 0.6544 - val_accuracy: 0.6000\n",
      "Epoch 52/100\n",
      "3/3 [==============================] - 0s 16ms/step - loss: 0.0013 - accuracy: 1.0000 - val_loss: 0.6533 - val_accuracy: 0.6000\n",
      "Epoch 53/100\n",
      "3/3 [==============================] - 0s 16ms/step - loss: 0.0012 - accuracy: 1.0000 - val_loss: 0.6525 - val_accuracy: 0.6000\n",
      "Epoch 54/100\n",
      "3/3 [==============================] - 0s 17ms/step - loss: 0.0012 - accuracy: 1.0000 - val_loss: 0.6516 - val_accuracy: 0.6000\n",
      "Epoch 55/100\n",
      "3/3 [==============================] - 0s 17ms/step - loss: 0.0012 - accuracy: 1.0000 - val_loss: 0.6507 - val_accuracy: 0.6000\n",
      "Epoch 56/100\n",
      "3/3 [==============================] - 0s 16ms/step - loss: 0.0012 - accuracy: 1.0000 - val_loss: 0.6507 - val_accuracy: 0.6000\n",
      "Epoch 57/100\n",
      "3/3 [==============================] - 0s 17ms/step - loss: 0.0011 - accuracy: 1.0000 - val_loss: 0.6501 - val_accuracy: 0.6000\n",
      "Epoch 58/100\n",
      "3/3 [==============================] - 0s 18ms/step - loss: 0.0011 - accuracy: 1.0000 - val_loss: 0.6496 - val_accuracy: 0.6000\n",
      "Epoch 59/100\n",
      "3/3 [==============================] - 0s 18ms/step - loss: 0.0011 - accuracy: 1.0000 - val_loss: 0.6490 - val_accuracy: 0.6000\n",
      "Epoch 60/100\n",
      "3/3 [==============================] - 0s 18ms/step - loss: 0.0011 - accuracy: 1.0000 - val_loss: 0.6482 - val_accuracy: 0.6000\n",
      "Epoch 61/100\n",
      "3/3 [==============================] - 0s 16ms/step - loss: 0.0010 - accuracy: 1.0000 - val_loss: 0.6470 - val_accuracy: 0.6000\n",
      "Epoch 62/100\n",
      "3/3 [==============================] - 0s 18ms/step - loss: 0.0010 - accuracy: 1.0000 - val_loss: 0.6467 - val_accuracy: 0.6000\n",
      "Epoch 63/100\n",
      "3/3 [==============================] - 0s 19ms/step - loss: 9.9869e-04 - accuracy: 1.0000 - val_loss: 0.6452 - val_accuracy: 0.6000\n",
      "Epoch 64/100\n",
      "3/3 [==============================] - 0s 19ms/step - loss: 9.7872e-04 - accuracy: 1.0000 - val_loss: 0.6439 - val_accuracy: 0.6000\n",
      "Epoch 65/100\n",
      "3/3 [==============================] - 0s 19ms/step - loss: 9.5813e-04 - accuracy: 1.0000 - val_loss: 0.6427 - val_accuracy: 0.6000\n",
      "Epoch 66/100\n",
      "3/3 [==============================] - 0s 18ms/step - loss: 9.3816e-04 - accuracy: 1.0000 - val_loss: 0.6417 - val_accuracy: 0.6000\n",
      "Epoch 67/100\n",
      "3/3 [==============================] - 0s 18ms/step - loss: 9.1943e-04 - accuracy: 1.0000 - val_loss: 0.6411 - val_accuracy: 0.6000\n",
      "Epoch 68/100\n",
      "3/3 [==============================] - 0s 17ms/step - loss: 9.0106e-04 - accuracy: 1.0000 - val_loss: 0.6403 - val_accuracy: 0.6000\n",
      "Epoch 69/100\n",
      "3/3 [==============================] - 0s 16ms/step - loss: 8.8315e-04 - accuracy: 1.0000 - val_loss: 0.6393 - val_accuracy: 0.6000\n",
      "Epoch 70/100\n",
      "3/3 [==============================] - 0s 16ms/step - loss: 8.6521e-04 - accuracy: 1.0000 - val_loss: 0.6385 - val_accuracy: 0.6000\n",
      "Epoch 71/100\n",
      "3/3 [==============================] - 0s 18ms/step - loss: 8.4826e-04 - accuracy: 1.0000 - val_loss: 0.6376 - val_accuracy: 0.6000\n",
      "Epoch 72/100\n",
      "3/3 [==============================] - 0s 17ms/step - loss: 8.3162e-04 - accuracy: 1.0000 - val_loss: 0.6368 - val_accuracy: 0.6000\n",
      "Epoch 73/100\n",
      "3/3 [==============================] - 0s 19ms/step - loss: 8.1601e-04 - accuracy: 1.0000 - val_loss: 0.6364 - val_accuracy: 0.6000\n",
      "Epoch 74/100\n",
      "3/3 [==============================] - 0s 20ms/step - loss: 8.0028e-04 - accuracy: 1.0000 - val_loss: 0.6364 - val_accuracy: 0.6000\n",
      "Epoch 75/100\n",
      "3/3 [==============================] - 0s 19ms/step - loss: 7.8548e-04 - accuracy: 1.0000 - val_loss: 0.6356 - val_accuracy: 0.6000\n",
      "Epoch 76/100\n",
      "3/3 [==============================] - 0s 44ms/step - loss: 7.7014e-04 - accuracy: 1.0000 - val_loss: 0.6350 - val_accuracy: 0.6000\n",
      "Epoch 77/100\n",
      "3/3 [==============================] - 0s 22ms/step - loss: 7.5573e-04 - accuracy: 1.0000 - val_loss: 0.6340 - val_accuracy: 0.6000\n",
      "Epoch 78/100\n",
      "3/3 [==============================] - 0s 20ms/step - loss: 7.4176e-04 - accuracy: 1.0000 - val_loss: 0.6335 - val_accuracy: 0.6000\n",
      "Epoch 79/100\n",
      "3/3 [==============================] - 0s 19ms/step - loss: 7.2868e-04 - accuracy: 1.0000 - val_loss: 0.6333 - val_accuracy: 0.6000\n",
      "Epoch 80/100\n",
      "3/3 [==============================] - 0s 17ms/step - loss: 7.1476e-04 - accuracy: 1.0000 - val_loss: 0.6326 - val_accuracy: 0.6000\n",
      "Epoch 81/100\n",
      "3/3 [==============================] - 0s 18ms/step - loss: 7.0229e-04 - accuracy: 1.0000 - val_loss: 0.6320 - val_accuracy: 0.6000\n",
      "Epoch 82/100\n",
      "3/3 [==============================] - 0s 19ms/step - loss: 6.8972e-04 - accuracy: 1.0000 - val_loss: 0.6317 - val_accuracy: 0.6000\n",
      "Epoch 83/100\n",
      "3/3 [==============================] - 0s 19ms/step - loss: 6.7703e-04 - accuracy: 1.0000 - val_loss: 0.6315 - val_accuracy: 0.6000\n",
      "Epoch 84/100\n",
      "3/3 [==============================] - 0s 19ms/step - loss: 6.6523e-04 - accuracy: 1.0000 - val_loss: 0.6302 - val_accuracy: 0.6000\n",
      "Epoch 85/100\n",
      "3/3 [==============================] - 0s 19ms/step - loss: 6.5360e-04 - accuracy: 1.0000 - val_loss: 0.6295 - val_accuracy: 0.6000\n",
      "Epoch 86/100\n",
      "3/3 [==============================] - 0s 20ms/step - loss: 6.4204e-04 - accuracy: 1.0000 - val_loss: 0.6287 - val_accuracy: 0.6000\n",
      "Epoch 87/100\n",
      "3/3 [==============================] - 0s 18ms/step - loss: 6.3099e-04 - accuracy: 1.0000 - val_loss: 0.6275 - val_accuracy: 0.6000\n",
      "Epoch 88/100\n",
      "3/3 [==============================] - 0s 18ms/step - loss: 6.2045e-04 - accuracy: 1.0000 - val_loss: 0.6268 - val_accuracy: 0.6000\n",
      "Epoch 89/100\n",
      "3/3 [==============================] - 0s 18ms/step - loss: 6.0986e-04 - accuracy: 1.0000 - val_loss: 0.6264 - val_accuracy: 0.6000\n",
      "Epoch 90/100\n",
      "3/3 [==============================] - 0s 18ms/step - loss: 5.9969e-04 - accuracy: 1.0000 - val_loss: 0.6258 - val_accuracy: 0.6000\n",
      "Epoch 91/100\n",
      "3/3 [==============================] - 0s 19ms/step - loss: 5.8971e-04 - accuracy: 1.0000 - val_loss: 0.6255 - val_accuracy: 0.6000\n",
      "Epoch 92/100\n",
      "3/3 [==============================] - 0s 19ms/step - loss: 5.7975e-04 - accuracy: 1.0000 - val_loss: 0.6247 - val_accuracy: 0.6000\n",
      "Epoch 93/100\n",
      "3/3 [==============================] - 0s 18ms/step - loss: 5.7016e-04 - accuracy: 1.0000 - val_loss: 0.6245 - val_accuracy: 0.6000\n",
      "Epoch 94/100\n",
      "3/3 [==============================] - 0s 19ms/step - loss: 5.6109e-04 - accuracy: 1.0000 - val_loss: 0.6238 - val_accuracy: 0.6000\n",
      "Epoch 95/100\n",
      "3/3 [==============================] - 0s 18ms/step - loss: 5.5218e-04 - accuracy: 1.0000 - val_loss: 0.6234 - val_accuracy: 0.6000\n",
      "Epoch 96/100\n",
      "3/3 [==============================] - 0s 19ms/step - loss: 5.4285e-04 - accuracy: 1.0000 - val_loss: 0.6230 - val_accuracy: 0.6000\n",
      "Epoch 97/100\n",
      "3/3 [==============================] - 0s 18ms/step - loss: 5.3452e-04 - accuracy: 1.0000 - val_loss: 0.6220 - val_accuracy: 0.6000\n",
      "Epoch 98/100\n",
      "3/3 [==============================] - 0s 19ms/step - loss: 5.2595e-04 - accuracy: 1.0000 - val_loss: 0.6214 - val_accuracy: 0.6000\n",
      "Epoch 99/100\n",
      "3/3 [==============================] - 0s 19ms/step - loss: 5.1775e-04 - accuracy: 1.0000 - val_loss: 0.6206 - val_accuracy: 0.6000\n",
      "Epoch 100/100\n",
      "3/3 [==============================] - 0s 16ms/step - loss: 5.0965e-04 - accuracy: 1.0000 - val_loss: 0.6200 - val_accuracy: 0.6000\n",
      "1/1 [==============================] - 0s 19ms/step - loss: 0.5133 - accuracy: 0.8846\n",
      "Test Accuracy: 88.46%\n"
     ]
    }
   ],
   "source": [
    "import pandas as pd\n",
    "from sklearn.model_selection import train_test_split\n",
    "from sklearn.feature_extraction.text import TfidfVectorizer\n",
    "import tensorflow as tf\n",
    "from tensorflow.keras.models import Sequential\n",
    "from tensorflow.keras.layers import Dense\n",
    "\n",
    "# Load dataset\n",
    "df = pd.read_csv('analysis_dataset.csv')\n",
    "\n",
    "# Feature extraction: TF-IDF\n",
    "tfidf_vectorizer = TfidfVectorizer(max_features=1000)  # Adjust max_features as needed\n",
    "X_tfidf = tfidf_vectorizer.fit_transform(df['analysis_text']).toarray()\n",
    "\n",
    "# Label encoding\n",
    "labels = pd.get_dummies(df['task'])\n",
    "\n",
    "# Split dataset\n",
    "X_train, X_test, y_train, y_test = train_test_split(X_tfidf, labels, test_size=0.2, random_state=42)\n",
    "\n",
    "# Define a simple neural network model for classification\n",
    "model = Sequential([\n",
    "    Dense(512, activation='relu', input_shape=(X_train.shape[1],)),\n",
    "    Dense(256, activation='relu'),\n",
    "    Dense(labels.shape[1], activation='softmax')  # Output layer nodes equal to number of tasks\n",
    "])\n",
    "\n",
    "model.compile(optimizer='adam',\n",
    "              loss='categorical_crossentropy',\n",
    "              metrics=['accuracy'])\n",
    "\n",
    "# Train model\n",
    "history = model.fit(X_train, y_train, epochs=100, validation_split=0.1)\n",
    "\n",
    "# Evaluate model\n",
    "loss, accuracy = model.evaluate(X_test, y_test)\n",
    "print(f'Test Accuracy: {accuracy*100:.2f}%')"
   ]
  },
  {
   "cell_type": "code",
   "execution_count": 12,
   "id": "a1a0ab54-a595-46c2-86d9-e707ebe0d83a",
   "metadata": {},
   "outputs": [
    {
     "data": {
      "image/png": "[encoded data removed]",
      "text/plain": [
       "<Figure size 640x480 with 1 Axes>"
      ]
     },
     "metadata": {},
     "output_type": "display_data"
    },
    {
     "data": {
      "image/png": "[encoded data removed]",
      "text/plain": [
       "<Figure size 640x480 with 1 Axes>"
      ]
     },
     "metadata": {},
     "output_type": "display_data"
    }
   ],
   "source": [
    "import matplotlib.pyplot as plt\n",
    "\n",
    "\n",
    "# Plotting training & validation accuracy\n",
    "plt.plot(history.history['accuracy'], label='Training Accuracy')\n",
    "plt.plot(history.history['val_accuracy'], label='Validation Accuracy')\n",
    "plt.title('Model Accuracy')\n",
    "plt.ylabel('Accuracy')\n",
    "plt.xlabel('Epoch')\n",
    "plt.legend(loc='upper left')\n",
    "plt.show()\n",
    "\n",
    "# Plotting training & validation loss\n",
    "plt.plot(history.history['loss'], label='Training Loss')\n",
    "plt.plot(history.history['val_loss'], label='Validation Loss')\n",
    "plt.title('Model Loss')\n",
    "plt.ylabel('Loss')\n",
    "plt.xlabel('Epoch')\n",
    "plt.legend(loc='upper left')\n",
    "plt.show()"
   ]
  },
  {
   "cell_type": "code",
   "execution_count": null,
   "id": "63fa444b-3548-4cca-88ca-ecabe74e0bcc",
   "metadata": {},
   "outputs": [],
   "source": []
  },
  {
   "cell_type": "code",
   "execution_count": null,
   "id": "860f9c09-51d9-40ea-99d2-1df04e9057fd",
   "metadata": {},
   "outputs": [],
   "source": []
  }
 ],
 "metadata": {
  "kernelspec": {
   "display_name": "Python 3 (ipykernel)",
   "language": "python",
   "name": "python3"
  },
  "language_info": {
   "codemirror_mode": {
    "name": "ipython",
    "version": 3
   },
   "file_extension": ".py",
   "mimetype": "text/x-python",
   "name": "python",
   "nbconvert_exporter": "python",
   "pygments_lexer": "ipython3",
   "version": "3.11.5"
  }
 },
 "nbformat": 4,
 "nbformat_minor": 5
}
