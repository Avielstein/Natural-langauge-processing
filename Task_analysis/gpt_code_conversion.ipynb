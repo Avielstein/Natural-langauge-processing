{
 "cells": [
  {
   "cell_type": "markdown",
   "id": "6e8ef1f9-c4d2-4bcd-9de7-959d4a2ec17e",
   "metadata": {},
   "source": [
    "# GPT Functionality extraction"
   ]
  },
  {
   "cell_type": "code",
   "execution_count": 1,
   "id": "aec92768-b005-48f9-94aa-93569dba6019",
   "metadata": {},
   "outputs": [
    {
     "name": "stdout",
     "output_type": "stream",
     "text": [
      "version: 1.13.3\n"
     ]
    }
   ],
   "source": [
    "import json\n",
    "import openai  # Ensure this import is here\n",
    "# new\n",
    "from openai import OpenAI\n",
    "from openai import AsyncOpenAI\n",
    "#!pip install --upgrade openai ## another way to update\n",
    "#!openai migrate #use this to update the version\n",
    "print('version:',openai.__version__)\n",
    "\n",
    "\n",
    "import nest_asyncio\n",
    "nest_asyncio.apply()\n",
    "\n",
    "import asyncio\n",
    "import pandas as pd\n",
    "import os\n",
    "from tqdm.asyncio import tqdm"
   ]
  },
  {
   "cell_type": "code",
   "execution_count": 2,
   "id": "ed09e849-8687-44e7-8336-e6145d81d6a3",
   "metadata": {},
   "outputs": [],
   "source": [
    "# Load API key from 'config.json'\n",
    "with open('../config.json', 'r') as f:\n",
    "    config = json.load(f)\n",
    "    api_key = config['OPENAI_API_KEY']\n",
    "\n",
    "# Initialize the OpenAI client with the API key\n",
    "client = AsyncOpenAI(api_key=api_key)"
   ]
  },
  {
   "cell_type": "markdown",
   "id": "8e449e2e-39d3-4e17-9118-596f58411564",
   "metadata": {},
   "source": [
    "### Basic api call "
   ]
  },
  {
   "cell_type": "code",
   "execution_count": 28,
   "id": "c5056548-5262-43fb-9ce7-afc2c0ffb2de",
   "metadata": {},
   "outputs": [],
   "source": [
    "async def generate_text_completion(prompt):\n",
    "    sys_role_promt = \"You are a professional source code analyist, Please provide a detailed description of the code, including its functionality, key features, and any notable techniques used, most importantly, what makes it unique, what can we gather about the challenge from the code. Please leave out standard informationt that might distract from the core purpose. Another key to helping us here is understanding the input and output. Responce should be readable for a non-technical audience\"    \n",
    "    \n",
    "    completion = await client.chat.completions.create(\n",
    "        model=\"gpt-3.5-turbo\",\n",
    "        messages=[\n",
    "            {\"role\": \"system\", \"content\": sys_role_promt},\n",
    "            {\"role\": \"user\", \"content\": prompt}\n",
    "        ]\n",
    "    )\n",
    "    return completion"
   ]
  },
  {
   "cell_type": "markdown",
   "id": "21c20560-ee1b-431b-8ebd-f2753a1693b4",
   "metadata": {},
   "source": [
    "### Test"
   ]
  },
  {
   "cell_type": "code",
   "execution_count": 20,
   "id": "86d0ec59-4b98-4411-a461-d7e2ab0541d8",
   "metadata": {},
   "outputs": [
    {
     "name": "stdout",
     "output_type": "stream",
     "text": [
      "The code snippet provided seems to be a humorous reference to a popular animated TV show, \"Rick and Morty.\" In this show, there is a character called Mr. Meeseeks who is created to serve a singular purpose and then ceases to exist once that purpose is fulfilled. In one episode, Mr. Meeseeks is asked about his purpose, and he comically responds, \"What is my purpose? Pass the butter.\"\n",
      "\n",
      "The code itself looks like a placeholder or placeholder function that is used to illustrate the concept of having a defined purpose. This code doesn't perform any specific functionality related to passing butter or any other practical task; it simply echoes the question \"what is your purpose?\" suggesting a humorous reference to the TV show.\n",
      "\n",
      "Overall, this code snippet is not functional in a programming sense but serves as a nod to a popular culture reference, making it unique in its humorous context. From this code, we can gather that the challenge or context of the conversation might be light-hearted or based on pop culture references.\n"
     ]
    }
   ],
   "source": [
    "## Test\n",
    "prompt = \"what is your purpose? (passing the butter?)\"\n",
    "completion = await generate_text_completion(prompt)\n",
    "\n",
    "# Adjusted access to the message content\n",
    "print(completion.choices[0].message.content)"
   ]
  },
  {
   "cell_type": "code",
   "execution_count": 29,
   "id": "7fc0d1ff-5f2c-4079-9d06-e4cbd0d54387",
   "metadata": {},
   "outputs": [
    {
     "name": "stdout",
     "output_type": "stream",
     "text": [
      "This code appears to be a solution to a programming challenge problem, likely a graph theory problem. \n",
      "\n",
      "The code utilizes various data structures and algorithms to find a solution for a given input. It uses breadth-first search (BFS) to traverse a graph and calculate distances between nodes. The algorithm is also utilizing dynamic programming to optimize the computations.\n",
      "\n",
      "Key features include:\n",
      "- Implementation of BFS traversal to find the shortest path distance and store the nodes at each level\n",
      "- Dynamic programming to calculate the maximum number of nodes reachable within a certain distance\n",
      "- Utilization of bitmask operations (bit manipulation) to optimize computations on sets of numbers\n",
      "- Handling input and output for multiple test cases\n",
      "\n",
      "The code reads input, constructs a graph, performs BFS, and uses dynamic programming to find the maximum number of nodes that can be reached within a certain distance. The output includes the shortest path distance and the maximum number of nodes reachable from the starting node.\n",
      "\n",
      "In summary, the code is a complex algorithmic solution involving graph traversal and dynamic programming to solve a specific problem efficiently.\n"
     ]
    }
   ],
   "source": [
    "\n",
    "file_path = os.path.join('tasks/A.I._War', 'Burunduk1_3_1.cpp')\n",
    "with open(file_path, 'r') as file:\n",
    "    content = file.read()\n",
    "completion = await generate_text_completion(content)\n",
    "\n",
    "# Adjusted access to the message content\n",
    "print(completion.choices[0].message.content)"
   ]
  },
  {
   "cell_type": "markdown",
   "id": "88613652-800d-496f-9f87-2398628facb1",
   "metadata": {},
   "source": [
    "## Use open AI to convert the documents"
   ]
  },
  {
   "cell_type": "code",
   "execution_count": 23,
   "id": "001dd2c6-c7f1-4644-8aed-7bdccca31d9c",
   "metadata": {},
   "outputs": [],
   "source": [
    "# Assuming the convert_code_to_doc function is defined elsewhere and it's asynchronous\n",
    "async def convert_code_to_doc(code):\n",
    "    completion = await generate_text_completion(code)\n",
    "    return completion.choices[0].message.content"
   ]
  },
  {
   "cell_type": "markdown",
   "id": "dd109ecd-8bb1-44e7-82dd-8bd7e998c247",
   "metadata": {},
   "source": [
    "### iterate"
   ]
  },
  {
   "cell_type": "markdown",
   "id": "daae3257-2417-42a6-b44b-e6a5f9e76f8a",
   "metadata": {},
   "source": [
    "#### Quality of life, add a loading bar\n",
    "\n",
    "!pip install tqdm\n",
    "\n",
    "!pip install --upgrade bottleneck\n"
   ]
  },
  {
   "cell_type": "markdown",
   "id": "21062ed6-c6e9-4dd0-b7ac-ab846a94e79b",
   "metadata": {},
   "source": [
    "## Process files (Async)"
   ]
  },
  {
   "cell_type": "code",
   "execution_count": 24,
   "id": "9dbe7d58-f46f-44bb-bf81-06aba5715c79",
   "metadata": {},
   "outputs": [],
   "source": [
    "async def process_file(task, filename, task_path):\n",
    "    file_path = os.path.join(task_path, filename)\n",
    "    with open(file_path, 'r') as file:\n",
    "        content = file.read()\n",
    "    analysis_result = await convert_code_to_doc(content)\n",
    "    return {'task': task, 'analysis_text': analysis_result}\n",
    "\n",
    "async def process_tasks(tasks, directory_path):\n",
    "    tasks_data = []\n",
    "    for task in tasks:\n",
    "        task_path = os.path.join(directory_path, task)\n",
    "        files = [f for f in os.listdir(task_path) if f.endswith('.cpp')]\n",
    "        for filename in tqdm(files, desc=f'Processing {task}', unit='file'):\n",
    "            file_data = await process_file(task, filename, task_path)  # Ensure this is properly awaited\n",
    "            tasks_data.append(file_data)\n",
    "    return tasks_data\n"
   ]
  },
  {
   "cell_type": "code",
   "execution_count": null,
   "id": "fee16ab8-837c-4976-b870-4a9ad1569842",
   "metadata": {},
   "outputs": [
    {
     "name": "stderr",
     "output_type": "stream",
     "text": [
      "Processing A.I._War: 100%|████████████████████| 10/10 [01:05<00:00,  6.51s/file]\n",
      "Processing Alien_Language:  90%|█████████████▌ | 9/10 [01:04<00:07,  7.35s/file]"
     ]
    }
   ],
   "source": [
    "import asyncio\n",
    "import pandas as pd\n",
    "\n",
    "# Assuming the definitions of convert_code_to_doc, process_file, and process_tasks are as before\n",
    "\n",
    "# Directory containing the .cpp files\n",
    "directory_path = 'tasks/'\n",
    "\n",
    "# List of tasks to categorize files into\n",
    "tasks = [\n",
    "    \"A.I._War\", \"Alien_Language\", \"Ample_Syrup\",\n",
    "    \"A_Digging_Problem\", \"All_Your_Base\", \"Apocalypse_Soon\",\n",
    "    \"Ace_in_the_Hole\", \"Allergy_Testing\", \"Are_We_Lost_Yet?\",\n",
    "    \"Aerobics\", \"Alphabet_Cake\",\n",
    "    \"Airport_Walkways\", \"Alphabetomials\"\n",
    "]\n",
    "\n",
    "# Adjusted approach for running the async process in an already running event loop environment\n",
    "# Directly await the asynchronous operation\n",
    "tasks_data = await process_tasks(tasks, directory_path)  # This directly uses await\n",
    "df = pd.DataFrame(tasks_data)\n",
    "\n",
    "# Proceed to save the DataFrame to CSV as before\n",
    "df.to_csv('analysis_dataset.csv', index=False)"
   ]
  },
  {
   "cell_type": "code",
   "execution_count": null,
   "id": "63fa444b-3548-4cca-88ca-ecabe74e0bcc",
   "metadata": {},
   "outputs": [],
   "source": []
  },
  {
   "cell_type": "code",
   "execution_count": null,
   "id": "860f9c09-51d9-40ea-99d2-1df04e9057fd",
   "metadata": {},
   "outputs": [],
   "source": []
  }
 ],
 "metadata": {
  "kernelspec": {
   "display_name": "Python 3 (ipykernel)",
   "language": "python",
   "name": "python3"
  },
  "language_info": {
   "codemirror_mode": {
    "name": "ipython",
    "version": 3
   },
   "file_extension": ".py",
   "mimetype": "text/x-python",
   "name": "python",
   "nbconvert_exporter": "python",
   "pygments_lexer": "ipython3",
   "version": "3.11.5"
  }
 },
 "nbformat": 4,
 "nbformat_minor": 5
}
